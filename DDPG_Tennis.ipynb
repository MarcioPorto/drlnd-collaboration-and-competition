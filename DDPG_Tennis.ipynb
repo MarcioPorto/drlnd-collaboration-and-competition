{
 "cells": [
  {
   "cell_type": "code",
   "execution_count": 1,
   "metadata": {},
   "outputs": [],
   "source": [
    "import random\n",
    "\n",
    "import numpy as np\n",
    "import torch\n",
    "from unityagents import UnityEnvironment\n",
    "\n",
    "from DDPG.hyperparameters import *"
   ]
  },
  {
   "cell_type": "code",
   "execution_count": 2,
   "metadata": {},
   "outputs": [
    {
     "name": "stderr",
     "output_type": "stream",
     "text": [
      "INFO:unityagents:\n",
      "'Academy' started successfully!\n",
      "Unity Academy name: Academy\n",
      "        Number of Brains: 1\n",
      "        Number of External Brains : 1\n",
      "        Lesson number : 0\n",
      "        Reset Parameters :\n",
      "\t\t\n",
      "Unity brain name: TennisBrain\n",
      "        Number of Visual Observations (per agent): 0\n",
      "        Vector Observation space type: continuous\n",
      "        Vector Observation space size (per agent): 8\n",
      "        Number of stacked Vector Observation: 3\n",
      "        Vector Action space type: continuous\n",
      "        Vector Action space size (per agent): 2\n",
      "        Vector Action descriptions: , \n"
     ]
    }
   ],
   "source": [
    "torch.manual_seed(RANDOM_SEED)\n",
    "random.seed(RANDOM_SEED)\n",
    "np.random.seed(RANDOM_SEED)\n",
    "\n",
    "env = UnityEnvironment(seed=RANDOM_SEED, file_name=\"Tennis.app\")"
   ]
  },
  {
   "cell_type": "code",
   "execution_count": 3,
   "metadata": {},
   "outputs": [
    {
     "name": "stdout",
     "output_type": "stream",
     "text": [
      "Number of agents: 2\n",
      "Size of each action: 2\n",
      "There are 2 agents. Each observes a state with length: 24\n",
      "The state for the first agent looks like: [ 0.          0.          0.          0.          0.          0.\n",
      "  0.          0.          0.          0.          0.          0.\n",
      "  0.          0.          0.          0.         -6.65278625 -1.5\n",
      " -0.          0.          6.83172083  6.         -0.          0.        ]\n"
     ]
    }
   ],
   "source": [
    "# get the default brain\n",
    "brain_name = env.brain_names[0]\n",
    "brain = env.brains[brain_name]\n",
    "\n",
    "# reset the environment\n",
    "env_info = env.reset(train_mode=True)[brain_name]\n",
    "\n",
    "# number of agents \n",
    "num_agents = len(env_info.agents)\n",
    "print('Number of agents:', num_agents)\n",
    "\n",
    "# size of each action\n",
    "action_size = brain.vector_action_space_size\n",
    "print('Size of each action:', action_size)\n",
    "\n",
    "# examine the state space \n",
    "states = env_info.vector_observations\n",
    "state_size = states.shape[1]\n",
    "print('There are {} agents. Each observes a state with length: {}'.format(states.shape[0], state_size))\n",
    "print('The state for the first agent looks like:', states[0])"
   ]
  },
  {
   "cell_type": "code",
   "execution_count": null,
   "metadata": {},
   "outputs": [],
   "source": [
    "from collections import deque\n",
    "\n",
    "import progressbar as pb\n",
    "\n",
    "\n",
    "# TODO: Rename states\n",
    "def train(maddpg, n_episodes=1000, max_t=1000, save_every=50):\n",
    "    widget = [\n",
    "        \"Episode: \", pb.Counter(), '/' , str(n_episodes), ' ', \n",
    "        pb.Percentage(), ' ', pb.ETA(), ' ', pb.Bar(marker=pb.RotatingMarker()), ' ', \n",
    "        'Rolling Average: ', pb.FormatLabel('')\n",
    "    ]\n",
    "    timer = pb.ProgressBar(widgets=widget, maxval=n_episodes).start()\n",
    "\n",
    "    solved = False\n",
    "    scores_total = []\n",
    "    scores_deque = deque(maxlen=100)\n",
    "    rolling_score_averages = []\n",
    "    best_score = 0.0\n",
    "    \n",
    "    for i_episode in range(1, n_episodes+1):\n",
    "        current_average = 0.0 if i_episode == 1 else rolling_score_averages[-1]\n",
    "        widget[12] = pb.FormatLabel(str(current_average)[:6])\n",
    "        timer.update(i_episode)\n",
    "            \n",
    "        env_info = env.reset(train_mode=True)[brain_name]\n",
    "        states = env_info.vector_observations[:, -STATE_SIZE:]\n",
    "        scores = np.zeros(num_agents)\n",
    "        maddpg.reset()\n",
    "        \n",
    "        # for t in range(max_t):\n",
    "        while True:\n",
    "            actions = maddpg.act(states)\n",
    "            \n",
    "            env_info = env.step(actions)[brain_name]\n",
    "            next_states = env_info.vector_observations[:, -STATE_SIZE:]\n",
    "            rewards = env_info.rewards\n",
    "            dones = env_info.local_done\n",
    "            \n",
    "            maddpg.step(states, actions, rewards, next_states, dones)\n",
    "            \n",
    "            scores += rewards\n",
    "            states = next_states\n",
    "            \n",
    "            if np.any(dones):\n",
    "                break\n",
    "        \n",
    "        max_episode_score = np.max(scores)\n",
    "        \n",
    "        scores_deque.append(max_episode_score)\n",
    "        scores_total.append(max_episode_score)\n",
    "\n",
    "        average_score = np.mean(scores_deque)\n",
    "        rolling_score_averages.append(average_score)\n",
    "        \n",
    "        if average_score > best_score:\n",
    "            best_score = average_score\n",
    "            if solved:\n",
    "                # This model is better than a previously saved model, so we'll save it\n",
    "                maddpg.save_model()\n",
    "        \n",
    "        if average_score >= 0.5 and not solved:\n",
    "            print('\\nEnvironment solved in {:d} episodes!\\tAverage Score: {:.2f}'.format(\n",
    "                i_episode, average_score\n",
    "            ))\n",
    "            solved = True\n",
    "            maddpg.save_model()\n",
    "            break\n",
    "        \n",
    "        if i_episode % save_every == 0 and not solved:\n",
    "            maddpg.save_model()\n",
    "\n",
    "    maddpg.save_model()\n",
    "\n",
    "    return scores_total, rolling_score_averages"
   ]
  },
  {
   "cell_type": "code",
   "execution_count": null,
   "metadata": {},
   "outputs": [],
   "source": [
    "from DDPG.ddpg_agent import DDPGAgent\n",
    "\n",
    "maddpg = DDPGAgent(STATE_SIZE, ACTION_SIZE, NUM_AGENTS)"
   ]
  },
  {
   "cell_type": "code",
   "execution_count": null,
   "metadata": {},
   "outputs": [
    {
     "name": "stderr",
     "output_type": "stream",
     "text": [
      "Episode: 105/500  21% ETA:  0:04:20 |\\\\\\              | Rolling Average: 0.0068\r"
     ]
    }
   ],
   "source": [
    "scores_total, rolling_score_averages = train(maddpg, n_episodes=500)"
   ]
  },
  {
   "cell_type": "code",
   "execution_count": null,
   "metadata": {},
   "outputs": [],
   "source": [
    "import matplotlib.pyplot as plt\n",
    "\n",
    "def plot_results(scores, rolling_score_averages):\n",
    "    fig = plt.figure()\n",
    "    ax = fig.add_subplot(111)\n",
    "\n",
    "    plt.plot(np.arange(1, len(scores) + 1), scores, label=\"Max Score\")\n",
    "    plt.plot(np.arange(1, len(rolling_score_averages) + 1), rolling_score_averages, label=\"Rolling Average\")\n",
    "\n",
    "    plt.legend(bbox_to_anchor=(1.05, 1), loc=2, borderaxespad=0.)\n",
    "    plt.ylabel(\"Score\")\n",
    "    plt.xlabel(\"Episode #\")\n",
    "    plt.show()"
   ]
  },
  {
   "cell_type": "code",
   "execution_count": null,
   "metadata": {},
   "outputs": [],
   "source": [
    "plot_results(scores_total, rolling_score_averages)"
   ]
  },
  {
   "cell_type": "code",
   "execution_count": null,
   "metadata": {},
   "outputs": [],
   "source": []
  }
 ],
 "metadata": {
  "kernelspec": {
   "display_name": "drlnd",
   "language": "python",
   "name": "drlnd"
  },
  "language_info": {
   "codemirror_mode": {
    "name": "ipython",
    "version": 3
   },
   "file_extension": ".py",
   "mimetype": "text/x-python",
   "name": "python",
   "nbconvert_exporter": "python",
   "pygments_lexer": "ipython3",
   "version": "3.6.7"
  }
 },
 "nbformat": 4,
 "nbformat_minor": 2
}
